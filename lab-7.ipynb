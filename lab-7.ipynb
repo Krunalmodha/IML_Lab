{
 "cells": [
  {
   "cell_type": "markdown",
   "id": "38c952e2",
   "metadata": {
    "_cell_guid": "b1076dfc-b9ad-4769-8c92-a6c4dae69d19",
    "_uuid": "8f2839f25d086af736a60e9eeb907d3b93b6e0e5",
    "papermill": {
     "duration": 0.004756,
     "end_time": "2023-11-06T07:56:55.156729",
     "exception": false,
     "start_time": "2023-11-06T07:56:55.151973",
     "status": "completed"
    },
    "tags": []
   },
   "source": [
    "**7 a) To create a dataframe from a dictionary and display it**"
   ]
  },
  {
   "cell_type": "code",
   "execution_count": 1,
   "id": "db7a08b1",
   "metadata": {
    "execution": {
     "iopub.execute_input": "2023-11-06T07:56:55.168049Z",
     "iopub.status.busy": "2023-11-06T07:56:55.167131Z",
     "iopub.status.idle": "2023-11-06T07:56:55.552807Z",
     "shell.execute_reply": "2023-11-06T07:56:55.551803Z"
    },
    "papermill": {
     "duration": 0.394752,
     "end_time": "2023-11-06T07:56:55.555368",
     "exception": false,
     "start_time": "2023-11-06T07:56:55.160616",
     "status": "completed"
    },
    "tags": []
   },
   "outputs": [
    {
     "name": "stdout",
     "output_type": "stream",
     "text": [
      "Converted Data Frame --> \n",
      "   Death   Naruto\n",
      "0   Ryuk  Kakashi\n",
      "1  Light   Yamato\n",
      "2   Kira   Itachi\n"
     ]
    }
   ],
   "source": [
    "import numpy as np\n",
    "import pandas as pd\n",
    "\n",
    "myDictionary = {'Death':['Ryuk','Light','Kira'],\n",
    "                'Naruto':['Kakashi','Yamato','Itachi']}\n",
    "\n",
    "dataFrame = pd.DataFrame(myDictionary)\n",
    "\n",
    "print(\"Converted Data Frame --> \")\n",
    "print(dataFrame)"
   ]
  },
  {
   "cell_type": "markdown",
   "id": "5fedf672",
   "metadata": {
    "papermill": {
     "duration": 0.00237,
     "end_time": "2023-11-06T07:56:55.560987",
     "exception": false,
     "start_time": "2023-11-06T07:56:55.558617",
     "status": "completed"
    },
    "tags": []
   },
   "source": [
    "**7 b) To sort the DataFrame first by 'name' in ascending order**"
   ]
  },
  {
   "cell_type": "code",
   "execution_count": 2,
   "id": "24978461",
   "metadata": {
    "execution": {
     "iopub.execute_input": "2023-11-06T07:56:55.568392Z",
     "iopub.status.busy": "2023-11-06T07:56:55.567860Z",
     "iopub.status.idle": "2023-11-06T07:56:55.585050Z",
     "shell.execute_reply": "2023-11-06T07:56:55.584265Z"
    },
    "papermill": {
     "duration": 0.023747,
     "end_time": "2023-11-06T07:56:55.587360",
     "exception": false,
     "start_time": "2023-11-06T07:56:55.563613",
     "status": "completed"
    },
    "tags": []
   },
   "outputs": [
    {
     "name": "stdout",
     "output_type": "stream",
     "text": [
      "Data Frame before sorting --> \n",
      "    Name     Hero\n",
      "0   Ryuk  Kakashi\n",
      "1  Light   Yamato\n",
      "2   Kira   Itachi\n",
      "\n",
      "Data Frame after sorting --> \n",
      "    Name     Hero\n",
      "2   Kira   Itachi\n",
      "1  Light   Yamato\n",
      "0   Ryuk  Kakashi\n"
     ]
    }
   ],
   "source": [
    "import numpy as np\n",
    "import pandas as pd\n",
    "\n",
    "dataFrame = pd.DataFrame({'Name':['Ryuk','Light','Kira'],\n",
    "                'Hero':['Kakashi','Yamato','Itachi']})\n",
    "\n",
    "print(\"Data Frame before sorting --> \")\n",
    "print(dataFrame)\n",
    "\n",
    "print(\"\\nData Frame after sorting --> \")\n",
    "print(dataFrame.sort_values(by='Name', ascending=True))"
   ]
  },
  {
   "cell_type": "markdown",
   "id": "b59b4e6d",
   "metadata": {
    "papermill": {
     "duration": 0.002493,
     "end_time": "2023-11-06T07:56:55.592620",
     "exception": false,
     "start_time": "2023-11-06T07:56:55.590127",
     "status": "completed"
    },
    "tags": []
   },
   "source": [
    "**7 c) to delete the one specific column from the DataFrame**"
   ]
  },
  {
   "cell_type": "code",
   "execution_count": 3,
   "id": "217bee88",
   "metadata": {
    "execution": {
     "iopub.execute_input": "2023-11-06T07:56:55.599951Z",
     "iopub.status.busy": "2023-11-06T07:56:55.598997Z",
     "iopub.status.idle": "2023-11-06T07:56:55.612497Z",
     "shell.execute_reply": "2023-11-06T07:56:55.611328Z"
    },
    "papermill": {
     "duration": 0.019588,
     "end_time": "2023-11-06T07:56:55.614735",
     "exception": false,
     "start_time": "2023-11-06T07:56:55.595147",
     "status": "completed"
    },
    "tags": []
   },
   "outputs": [
    {
     "name": "stdout",
     "output_type": "stream",
     "text": [
      "Data Frame before Deleting one column --> \n",
      "    Name     Hero\n",
      "0   Ryuk  Kakashi\n",
      "1  Light   Yamato\n",
      "2   Kira   Itachi\n",
      "\n",
      "Data Frame before Deleting one column --> \n",
      "    Name\n",
      "0   Ryuk\n",
      "1  Light\n",
      "2   Kira\n"
     ]
    }
   ],
   "source": [
    "import numpy as np\n",
    "import pandas as pd\n",
    "\n",
    "dataFrame = pd.DataFrame({'Name':['Ryuk','Light','Kira'],\n",
    "                'Hero':['Kakashi','Yamato','Itachi']})\n",
    "\n",
    "print(\"Data Frame before Deleting one column --> \")\n",
    "print(dataFrame)\n",
    "\n",
    "dataFrame=dataFrame.drop(columns=['Hero'])\n",
    "print(\"\\nData Frame before Deleting one column --> \")\n",
    "print(dataFrame)"
   ]
  },
  {
   "cell_type": "markdown",
   "id": "3501de44",
   "metadata": {
    "papermill": {
     "duration": 0.002451,
     "end_time": "2023-11-06T07:56:55.620026",
     "exception": false,
     "start_time": "2023-11-06T07:56:55.617575",
     "status": "completed"
    },
    "tags": []
   },
   "source": [
    "**7 d) To write a DataFrame to CSV file using tab separator**"
   ]
  },
  {
   "cell_type": "code",
   "execution_count": 4,
   "id": "22875d33",
   "metadata": {
    "execution": {
     "iopub.execute_input": "2023-11-06T07:56:55.626956Z",
     "iopub.status.busy": "2023-11-06T07:56:55.626616Z",
     "iopub.status.idle": "2023-11-06T07:56:55.636933Z",
     "shell.execute_reply": "2023-11-06T07:56:55.636021Z"
    },
    "papermill": {
     "duration": 0.016399,
     "end_time": "2023-11-06T07:56:55.639054",
     "exception": false,
     "start_time": "2023-11-06T07:56:55.622655",
     "status": "completed"
    },
    "tags": []
   },
   "outputs": [],
   "source": [
    "import pandas as pd\n",
    "\n",
    "data = {'Name': ['Kakashi', 'Sasuke', 'Luffy'],\n",
    "        'Age': [35, 19, 20],\n",
    "        'City': ['Konoha', 'Konoha', 'New World']}\n",
    "\n",
    "dataFrame = pd.DataFrame(data)\n",
    "\n",
    "file_path = 'storeData.tsv'\n",
    "\n",
    "dataFrame.to_csv(file_path, sep='\\t', index=False)"
   ]
  }
 ],
 "metadata": {
  "kernelspec": {
   "display_name": "Python 3",
   "language": "python",
   "name": "python3"
  },
  "language_info": {
   "codemirror_mode": {
    "name": "ipython",
    "version": 3
   },
   "file_extension": ".py",
   "mimetype": "text/x-python",
   "name": "python",
   "nbconvert_exporter": "python",
   "pygments_lexer": "ipython3",
   "version": "3.10.12"
  },
  "papermill": {
   "default_parameters": {},
   "duration": 4.126433,
   "end_time": "2023-11-06T07:56:56.060725",
   "environment_variables": {},
   "exception": null,
   "input_path": "__notebook__.ipynb",
   "output_path": "__notebook__.ipynb",
   "parameters": {},
   "start_time": "2023-11-06T07:56:51.934292",
   "version": "2.4.0"
  }
 },
 "nbformat": 4,
 "nbformat_minor": 5
}
